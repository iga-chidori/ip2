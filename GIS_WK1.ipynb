{
 "cells": [
  {
   "cell_type": "code",
   "execution_count": null,
   "id": "820ba3ae-f442-4a8a-bb70-eefa85005e89",
   "metadata": {},
   "outputs": [],
   "source": [
    "## Week 1\n",
    "# 1.[Complex systems theory](https://complexsystemstheory.net/2020/09/15/systems-thinking-geospatial-science-and-the-complex-nature-of-the-sustainable-development-goals/)\n",
    "The intention of this discussion is to promote systems thinking in terms of the SDGs and the consideration of these goals and related targets as interrelated components of a complex system. \n",
    "A broad overview is provided of subjects for deliberation, rather than an in-depth study of each. \n",
    "\n",
    "# 2.[The Value of GIS & Spatial Data Science in Achieving the SDGs](https://complexsystemstheory.net/2020/09/23/gis-and-the-sustainable-development-goals/)\n"
   ]
  }
 ],
 "metadata": {
  "kernelspec": {
   "display_name": "Python 3 (ipykernel)",
   "language": "python",
   "name": "python3"
  },
  "language_info": {
   "codemirror_mode": {
    "name": "ipython",
    "version": 3
   },
   "file_extension": ".py",
   "mimetype": "text/x-python",
   "name": "python",
   "nbconvert_exporter": "python",
   "pygments_lexer": "ipython3",
   "version": "3.9.6"
  }
 },
 "nbformat": 4,
 "nbformat_minor": 5
}
